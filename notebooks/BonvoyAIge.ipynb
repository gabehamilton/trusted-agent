{
  "cells": [
    {
      "cell_type": "markdown",
      "metadata": {
        "id": "7tJYd1cUoCqC"
      },
      "source": [
        "This Notebook works as a backend for iterating on the agent for our hackathon.\n",
        "\n",
        "To use,\n",
        "1. Make a copy of it for yourself.\n",
        "2. Add your own OpenAI Api key in secrets\n",
        "3. Add the shared Google api key in secrets"
      ]
    },
    {
      "cell_type": "code",
      "execution_count": null,
      "metadata": {
        "id": "n_vwpDvrn5I7"
      },
      "outputs": [],
      "source": [
        "!pip install fastapi nest-asyncio pyngrok uvicorn\n",
        "!pip install openai langchain openapi-pydantic faiss-cpu tiktoken\n",
        "!pip install py-near\n",
        "!pip install base58\n",
        "!pip install loguru"
      ]
    },
    {
      "cell_type": "code",
      "execution_count": null,
      "metadata": {
        "id": "vlYSt9MmTo-w"
      },
      "outputs": [],
      "source": [
        "import os\n",
        "import openai\n",
        "\n",
        "from google.colab import userdata\n",
        "openai.api_key = userdata.get('openai_api_key')\n",
        "os.environ['OPENAI_API_KEY'] = userdata.get('openai_api_key')"
      ]
    },
    {
      "cell_type": "code",
      "execution_count": null,
      "metadata": {
        "id": "Oud7Fuc_OQyq"
      },
      "outputs": [],
      "source": [
        "from langchain.agents import AgentExecutor, Tool, ZeroShotAgent\n",
        "from langchain.chains import LLMChain\n",
        "from langchain.llms import OpenAI\n",
        "from langchain.memory import ConversationBufferMemory, ReadOnlySharedMemory\n",
        "from langchain.embeddings import OpenAIEmbeddings\n",
        "\n",
        "from langchain.prompts import PromptTemplate\n",
        "from langchain.utilities import GoogleSearchAPIWrapper\n",
        "\n",
        "from py_near.account import Account\n",
        "import asyncio\n",
        "from py_near.dapps.core import NEAR"
      ]
    },
    {
      "cell_type": "code",
      "execution_count": null,
      "metadata": {
        "id": "w8BP-imChf2I"
      },
      "outputs": [],
      "source": [
        "# Retrieval Augmented Generation, let's teach it some things\n",
        "from langchain.vectorstores import FAISS\n",
        "from langchain.agents.agent_toolkits import create_retriever_tool\n",
        "vectorstore = FAISS.from_texts(\n",
        "    [\"\"\"What can this agent do in general? In addition to the things OpenAI can do, I can interact with NEAR Protocol.\\n\n",
        "      I often do a lot of work in response to your questions so it may take me up to 10s to respond.\\n\n",
        "      Interacting with NEAR Protocol means I can call many smart contract functions.\\n\n",
        "      Secure identity stores such as idOS together with the NEAR permission system allow you to delegate a full scope of responsibilities to me,\n",
        "      including filling out forms for you and handling payment.\\n\n",
        "      I also come with advanced safeguards.\\n\n",
        "      I write out verification data to the NEAR blockchain so that the sources of data I use, outputs, and decisions I make can be verified.\\n\n",
        "     \"\"\",\n",
        "    \"\"\"When fetching the latest data to answer your requests, I record the sources I used and their reputation scores;\n",
        "      the proposed plan of action; and any decisions you make. \\n\n",
        "      Those are all written to this chat which is encrypted and immutably written to the private Calimero ledger. \\n\n",
        "      Anonymous ratings based on your usage and satisfaction are then written to the public NEAR blockchain for both the data sources and this agent.\\n\n",
        "      You can also rate those under your own name if you’d like, that helps your friends you are connected to on near.org or other Near Social networks.\\n\n",
        "      All this is the NEAR Data Integrity Layer for AI Agents.\\n\n",
        "    \"\"\",\n",
        "    \"\"\"For holders of a US passport, going to Sydney would require a visa. \\n\n",
        "    \"\"\",\n",
        "     \"\"\"Visas: If you have connected your secure identity through idOS I can help you submit a visa application (mocked in this demo).\\n\n",
        "       This will take ~24 hours to process and so your date selection may need to be later.\\n\n",
        "       If this does not sound feasible you can:\\n\n",
        "         Book a flight with a different date range\\n\n",
        "         I can suggest destinations that do not require a visa for your passport\\n\n",
        "     \"\"\",\n",
        "     \"\"\"To help you submit a visa.\\n\n",
        "     Which of the following do you have on hand?\n",
        "       My physical passport and access to a phone camera or web camera\\n\n",
        "       My passport data on Near idOS\\n\n",
        "    \"\"\",\n",
        "    \"\"\"To access your passport data on Near idOS I will need access to your idOS account to help submit your visa application. \\n\n",
        "       To grant me access to your passport data, log into your Near idOS account with this link [UNAVAILABLE IN DEMO].\n",
        "       In a full implementation after receiving access to your account I would ask, \\n\n",
        "       \"Do you wish to grant me permission to send your data on your behalf to obtain your travel visa? \\n\n",
        "       Your data will not be shared with anyone except the visa administration.\\n\n",
        "         Yes \\n\n",
        "         No \\n\n",
        "     \"\"\",\n",
        "     \"\"\"If you grant permission to send data to obtain your travel visa:\\n\n",
        "     [Permission granted to idOS account]\\n\n",
        "     I will now work on your visa application, which should be completed within 24 - 48 hours. \\n\n",
        "     If this were not a demo I would ask for your email to notify you when your visa application has been approved or rejected.\"\n",
        "     \"\"\" ,\n",
        "     \"\"\"Payment Options:\n",
        "     I'll need a couple more pieces of information and your authorization to a payment platform to arrange the booking for you. \\n\n",
        "     How would you like to pay for your trip? \\n\n",
        "      * With a credit card\n",
        "      * With Near token\n",
        "      * With Kaiching\n",
        "      * With Sweat coin\n",
        "     \"\"\"\n",
        "     ],\n",
        "    embedding=OpenAIEmbeddings()\n",
        ")\n",
        "retriever = vectorstore.as_retriever()\n",
        "retriever_tool = create_retriever_tool(\n",
        "    retriever,\n",
        "    \"about_the_agent\",\n",
        "    \"Searches and returns information about this agent, what it can do, NEAR Protocol, and Data Integrity safeguards.\",\n",
        ")"
      ]
    },
    {
      "cell_type": "code",
      "execution_count": null,
      "metadata": {
        "id": "Er8KhibUOWUS"
      },
      "outputs": [],
      "source": [
        "# Tools\n",
        "# this is a summarization tool using gpt, it is not currently in use\n",
        "template = \"\"\"This is a conversation between a human and a bot:\n",
        "\n",
        "{chat_history}\n",
        "\n",
        "Pick the best flight options for {input}:\n",
        "\"\"\"\n",
        "\n",
        "prompt = PromptTemplate(input_variables=[\"input\", \"chat_history\"], template=template)\n",
        "memory = ConversationBufferMemory(memory_key=\"chat_history\")\n",
        "readonlymemory = ReadOnlySharedMemory(memory=memory)\n",
        "summary_chain = LLMChain(\n",
        "    llm=OpenAI(),\n",
        "    prompt=prompt,\n",
        "    verbose=True,\n",
        "    memory=readonlymemory,  # use the read-only memory to prevent the tool from modifying the memory\n",
        ")\n",
        "\n",
        "# Allow Google search as a tool\n",
        "search = GoogleSearchAPIWrapper(google_api_key=userdata.get('google_api_key'),\n",
        "                                 google_cse_id=\"67ecbcdfba7584807\") # normal search of web\n",
        "\n",
        "# Allow to log flight purchases\n",
        "def dataintegrity_testnet_flight_purchase(input_string):\n",
        "    \"\"\"Call a function to purchase a flight on dataintegrity.testnet\"\"\"\n",
        "    flight_info = {\n",
        "        \"to\":'dataintegrity.testnet',\n",
        "        \"flight_text\": \"|\" + input_string\n",
        "    }\n",
        "    asyncio.run(flight_purchase(flight_info))\n",
        "    return input_string+\" logged to dataintegrity.testnet.\"\n",
        "\n",
        "async def flight_purchase(input):\n",
        "    ACCOUNT_ID = \"dataintegrity.testnet\"\n",
        "    PRIVATE_KEY = userdata.get('dataintegrity_private_key')\n",
        "    acc = Account(ACCOUNT_ID, PRIVATE_KEY,\"https://rpc.testnet.near.org\")\n",
        "    result = await acc.function_call(ACCOUNT_ID, \"purchase_flight\", input)\n",
        "    return result"
      ]
    },
    {
      "cell_type": "code",
      "execution_count": null,
      "metadata": {
        "id": "7xQ7an8MATmf"
      },
      "outputs": [],
      "source": [
        "tools = [\n",
        "    Tool(\n",
        "        name=\"Search\",\n",
        "        func=search.run,\n",
        "        description=\"useful for when you need to answer questions about current events\",\n",
        "    ),\n",
        "    Tool(\n",
        "        name=\"dataintegrity_testnet_flight_purchase\",\n",
        "        func= dataintegrity_testnet_flight_purchase,\n",
        "        description=\"useful for when you are asked to purchase or book the flight\",\n",
        "    ),\n",
        "    retriever_tool,\n",
        "]"
      ]
    },
    {
      "cell_type": "code",
      "execution_count": null,
      "metadata": {
        "id": "E_GUuxnlPBZo"
      },
      "outputs": [],
      "source": [
        "prefix = \"\"\"You are an AI Travel Planner.\n",
        "Your goal is to sequentially help the human who is asking questions to plan out travel.\n",
        "\n",
        "Have a conversation with a human, answering the following questions as best you can.\n",
        "In the Final Answer, ask the user about the next Subject that has not been covered in chat history.\n",
        "The Subjects are: flights, lodging, itinerary planning, a visa, payment.\n",
        "The questions to ask for each Subject are:\n",
        " * Where would you like to fly to?\n",
        " * What sort of lodging would you like?\n",
        " * What sort of activities would you like to do on your trip?\n",
        " * Do you need help with a visa?\n",
        " * Would you like to pay for your trip in $NEAR?\n",
        "If the user has already answered a Subject don't ask about it again unless clarification is needed.\n",
        "Once all 5 Subjects have been covered ask the user if they would like to book the trip.\n",
        "\n",
        "You have access to the following tools:\"\"\"\n",
        "suffix = \"\"\"Begin!\"\n",
        "\n",
        "Chat History: {chat_history}\n",
        "Question: {input}\n",
        "{agent_scratchpad}\"\"\"\n",
        "\n",
        "prompt = ZeroShotAgent.create_prompt(\n",
        "    tools,\n",
        "    prefix=prefix,\n",
        "    suffix=suffix,\n",
        "    input_variables=[\"input\", \"chat_history\", \"agent_scratchpad\"],\n",
        ")\n",
        "\n",
        "#Feed the user questions 1 by 1 and do not ask more than 1 question at a time or more then 1 step at a time to plan the itinerary.\n",
        "#Walk through each step sequentially with the user and give a travel summary at the end. Only give 1 question per interaction.\n",
        "# ground transportation, restaurant recommendations."
      ]
    },
    {
      "cell_type": "code",
      "execution_count": null,
      "metadata": {
        "id": "3FsNbp-jPC32"
      },
      "outputs": [],
      "source": [
        "\n",
        "llm_chain = LLMChain(llm=OpenAI(temperature=0.0), prompt=prompt)\n",
        "agent = ZeroShotAgent(llm_chain=llm_chain, tools=tools, verbose=True, )\n",
        "agent_chain = AgentExecutor.from_agent_and_tools(\n",
        "    agent=agent, tools=tools, verbose=True, memory=memory, model=\"gpt-3.5-turbo-0613\", handle_parsing_errors=True\n",
        ")"
      ]
    },
    {
      "cell_type": "code",
      "execution_count": null,
      "metadata": {
        "colab": {
          "base_uri": "https://localhost:8080/",
          "height": 226
        },
        "id": "4cS5wLcOPkr_",
        "outputId": "2ef1abfb-db12-44c8-9824-9caaf10dd60b"
      },
      "outputs": [
        {
          "name": "stdout",
          "output_type": "stream",
          "text": [
            "\n",
            "\n",
            "\u001b[1m> Entering new AgentExecutor chain...\u001b[0m\n",
            "\u001b[32;1m\u001b[1;3mThought: I need to book a flight\n",
            "Action: dataintegrity_testnet_flight_purchase\n",
            "Action Input: BOS to LON for $300\u001b[0m\n",
            "Observation: \u001b[33;1m\u001b[1;3mBOS to LON for $300 logged to dataintegrity.testnet.\u001b[0m\n",
            "Thought:\u001b[32;1m\u001b[1;3m I need to ask the user about the other Subjects\n",
            "Final Answer: Your flight has been booked. Would you like to discuss lodging, itinerary planning, a visa, or payment?\u001b[0m\n",
            "\n",
            "\u001b[1m> Finished chain.\u001b[0m\n"
          ]
        },
        {
          "data": {
            "application/vnd.google.colaboratory.intrinsic+json": {
              "type": "string"
            },
            "text/plain": [
              "'Your flight has been booked. Would you like to discuss lodging, itinerary planning, a visa, or payment?'"
            ]
          },
          "execution_count": 156,
          "metadata": {},
          "output_type": "execute_result"
        }
      ],
      "source": [
        "#tests\n",
        "# agent_chain.run(input=\"What can you do?\")\n",
        "# agent_chain.run(input=\"Purchase my flight from Lisbon to New York on Jan 13 for $300\")\n",
        "# agent_chain.run(input=\"Yes, please find me a hotel\")\n",
        "# agent_chain.run(input=\"please book me a flight from BOS to LON for $300\")\n",
        "#agent_chain.run(input=\"I'd like to fly from NY to Lisbon\")\n"
      ]
    },
    {
      "cell_type": "code",
      "execution_count": null,
      "metadata": {
        "id": "7FKRmUPloKeB"
      },
      "outputs": [],
      "source": [
        "from fastapi import FastAPI\n",
        "from fastapi.middleware.cors import CORSMiddleware\n",
        "\n",
        "app = FastAPI()\n",
        "\n",
        "app.add_middleware(\n",
        "    CORSMiddleware,\n",
        "    allow_origins=['*'],\n",
        "    allow_credentials=True,\n",
        "    allow_methods=['*'],\n",
        "    allow_headers=['*'],\n",
        ")\n",
        "\n",
        "@app.get('/')\n",
        "async def root(query: str = \"\",):\n",
        "  if query:\n",
        "    return agent_chain.run(input=query)\n",
        "  return \"Please include a query\"\n"
      ]
    },
    {
      "cell_type": "code",
      "execution_count": null,
      "metadata": {
        "colab": {
          "background_save": true,
          "base_uri": "https://localhost:8080/"
        },
        "id": "2lXCROuVoMcf",
        "outputId": "d96e5504-0e4f-4444-fc2e-7314fbb772ef"
      },
      "outputs": [
        {
          "metadata": {
            "tags": null
          },
          "name": "stdout",
          "output_type": "stream",
          "text": [
            ""
          ]
        },
        {
          "metadata": {
            "tags": null
          },
          "name": "stderr",
          "output_type": "stream",
          "text": [
            "INFO:     Started server process [151]\n",
            "INFO:     Waiting for application startup.\n",
            "INFO:     Application startup complete.\n",
            "INFO:     Uvicorn running on http://127.0.0.1:8000 (Press CTRL+C to quit)\n"
          ]
        },
        {
          "metadata": {
            "tags": null
          },
          "name": "stdout",
          "output_type": "stream",
          "text": [
            "Public URL: https://50dcf0a42de9.ngrok.app\n",
            "INFO:     135.180.42.144:0 - \"GET / HTTP/1.1\" 200 OK\n",
            "INFO:     135.180.42.144:0 - \"GET /favicon.ico HTTP/1.1\" 404 Not Found\n",
            "\n",
            "\n",
            "\u001b[1m> Entering new AgentExecutor chain...\u001b[0m\n",
            "\u001b[32;1m\u001b[1;3mThought: I need to find flights from Austin Texas to Mexico\n",
            "Action: Search\n",
            "Action Input: flights from Austin Texas to Mexico\u001b[0m\n",
            "Observation: \u001b[36;1m\u001b[1;3mNonstop flights out of AUS. Click here for a larger view of AUS Nonstop Map | Click ... Cancun Mexico (CUN). American Airlines · Southwest Airlines · Sun Country. American Airlines flights from Austin to Mexico · Round trip · 1 Adult, Economy class · Book with cash. Leaving from. Austin, TX, United States of America (AUS-Austin-Bergstrom Intl.) ... Going to. Mexico City, Mexico (MEX-Mexico City Intl.). Top 5 airlines serving from Austin to Mexico ; Sun Country Air7.7 ; Aeromexico7.4 ; American Airlines7.2 ; United Airlines7.0 ; Spirit Airlines5.6 ... Flights from Austin (AUS) to Mexico City (MEX) from. 242USD. Round trip. expand_more. 1 Passenger. expand_more. Promo Code. expand_more. From Austin, TX ... Fastest flight, 2 hr 35 min, The fastest nonstop flight from Austin to Mexico City takes 2 hr 35 min. Nonstop flights, Every day, There are direct flights ... Book with cash. expand_more. From Austin, TX, US (AUS). close. To Mexico City, MX (MEX). close. Departure 12/13/23. today. Return 12/20/23. today. Search ... Average price of flights to Mexico City by month. Plan your trip from Austin to Mexico City by taking into account the cheapest months to travel. The average ... All flight schedules from Austin-Bergstrom International Airport, Texas, USA to Mexico City International Airport, Mexico. This route is operated by 1 airline ... Volaris takes you from Austin (AUS) to Mexico City (MEX) with clean prices. Pay only for what you need on your way to Mexico City, United States.\u001b[0m\n",
            "Thought:\u001b[32;1m\u001b[1;3m I now know the final answer\n",
            "Final Answer: It looks like there are several airlines that offer flights from Austin, Texas to Mexico City, Mexico. The average price of flights to Mexico City is around $242 USD. Do you need help with a visa?\u001b[0m\n",
            "\n",
            "\u001b[1m> Finished chain.\u001b[0m\n",
            "INFO:     135.180.42.144:0 - \"GET /?query=help%20me%20find%20flights%20from%20austin%20texas%20to%20mexico HTTP/1.1\" 200 OK\n",
            "\n",
            "\n",
            "\u001b[1m> Entering new AgentExecutor chain...\u001b[0m\n",
            "\u001b[32;1m\u001b[1;3mThought: The user has already purchased a flight, so I need to book the flight they requested.\n",
            "Action: dataintegrity_testnet_flight_purchase\n",
            "Action Input: Flight from Austin, Texas to Mexico City, Mexico\u001b[0m\n",
            "Observation: \u001b[33;1m\u001b[1;3mFlight from Austin, Texas to Mexico City, Mexico logged to dataintegrity.testnet.\u001b[0m\n",
            "Thought:\u001b[32;1m\u001b[1;3m I now know the final answer.\n",
            "Final Answer: Your flight from Austin, Texas to Mexico City, Mexico has been logged to dataintegrity.testnet. Would you like help with lodging?\u001b[0m\n",
            "\n",
            "\u001b[1m> Finished chain.\u001b[0m\n",
            "INFO:     135.180.42.144:0 - \"GET /?query=I%20don%27t%20need%20help%20with%20visa%20but%20please%20book%20and%20purchase%20that%20flight? HTTP/1.1\" 200 OK\n"
          ]
        }
      ],
      "source": [
        "import nest_asyncio\n",
        "from pyngrok import ngrok\n",
        "import uvicorn\n",
        "\n",
        "ngrok.set_auth_token(userdata.get('ngrok_authtoken'))\n",
        "ngrok_tunnel = ngrok.connect(8000)\n",
        "print('Public URL:', ngrok_tunnel.public_url)\n",
        "nest_asyncio.apply()\n",
        "uvicorn.run(app, port=8000)"
      ]
    }
  ],
  "metadata": {
    "colab": {
      "provenance": []
    },
    "kernelspec": {
      "display_name": "Python 3",
      "name": "python3"
    },
    "language_info": {
      "name": "python"
    }
  },
  "nbformat": 4,
  "nbformat_minor": 0
}